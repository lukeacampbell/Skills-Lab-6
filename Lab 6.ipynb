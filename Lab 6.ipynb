{
 "cells": [
  {
   "cell_type": "code",
   "execution_count": 1,
   "id": "6e0ceabc-e3eb-4d3f-8f91-9cd3c7967c65",
   "metadata": {},
   "outputs": [
    {
     "name": "stdin",
     "output_type": "stream",
     "text": [
      "What is your name?  luke\n",
      "What is your favorite color?  blue\n"
     ]
    },
    {
     "name": "stdout",
     "output_type": "stream",
     "text": [
      "Hello, luke! Your favorite color is blue.\n"
     ]
    }
   ],
   "source": [
    "name = input(\"What is your name? \")\n",
    "favorite_color = input(\"What is your favorite color? \")\n",
    "def greet_user(name, favorite_color):\n",
    "    return f\"Hello, {name}! Your favorite color is {favorite_color}.\"\n",
    "greeting = greet_user(name, favorite_color)\n",
    "print(greeting)"
   ]
  }
 ],
 "metadata": {
  "kernelspec": {
   "display_name": "Python 3 (ipykernel)",
   "language": "python",
   "name": "python3"
  },
  "language_info": {
   "codemirror_mode": {
    "name": "ipython",
    "version": 3
   },
   "file_extension": ".py",
   "mimetype": "text/x-python",
   "name": "python",
   "nbconvert_exporter": "python",
   "pygments_lexer": "ipython3",
   "version": "3.12.4"
  }
 },
 "nbformat": 4,
 "nbformat_minor": 5
}
